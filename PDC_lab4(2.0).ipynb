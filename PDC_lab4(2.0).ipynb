{
  "nbformat": 4,
  "nbformat_minor": 0,
  "metadata": {
    "colab": {
      "name": "PDC-lab4 2.0.ipynb",
      "provenance": [],
      "authorship_tag": "ABX9TyPLNVujml5jBRrVCLEyqsgs",
      "include_colab_link": true
    },
    "kernelspec": {
      "name": "python3",
      "display_name": "Python 3"
    }
  },
  "cells": [
    {
      "cell_type": "markdown",
      "metadata": {
        "id": "view-in-github",
        "colab_type": "text"
      },
      "source": [
        "<a href=\"https://colab.research.google.com/github/holps-7/PDC-weekly/blob/master/PDC_lab4(2.0).ipynb\" target=\"_parent\"><img src=\"https://colab.research.google.com/assets/colab-badge.svg\" alt=\"Open In Colab\"/></a>"
      ]
    },
    {
      "cell_type": "code",
      "metadata": {
        "id": "GozgRVwUw1ce",
        "colab_type": "code",
        "colab": {}
      },
      "source": [
        "#Ramesh Sachan 18BCE2030\n",
        "code = \"\"\"\n",
        "#include <stdio.h>\n",
        "#include <stdlib.h>\n",
        "#include <time.h>\n",
        "#include <omp.h>\n",
        "#define MAX_ 100000000\n",
        "double Rand(double L, double U)  \n",
        "{  \n",
        "    return L + (U - L) * rand() * 1.0 / RAND_MAX;  \n",
        "}  \n",
        "int main()\n",
        "{\n",
        "   long long i,ctr=0;\n",
        "   double x,y,pi;\n",
        "   time_t t;\n",
        "   srand((unsigned) time(&t));\n",
        "   #pragma omp parallel for private(x,y) reduction(+:ctr)\n",
        "   for(i=0;i<MAX_;i++)\n",
        "   {\n",
        "        x = Rand(-1.0, 1.0);  \n",
        "\t    y = Rand(-1.0, 1.0);  \n",
        "        if((x*x+y*y)<=1)\n",
        "            ctr++;\n",
        "   } \n",
        "   pi = ctr*4.0/MAX_;\n",
        "   printf(\"Pi: %lf\",pi);\n",
        "   return 0;\n",
        "}\n",
        "\"\"\""
      ],
      "execution_count": 5,
      "outputs": []
    },
    {
      "cell_type": "code",
      "metadata": {
        "id": "pV5fuSj4w2kf",
        "colab_type": "code",
        "colab": {}
      },
      "source": [
        "text_file = open(\"code.c\", \"w\")\n",
        "text_file.write(code)\n",
        "text_file.close()"
      ],
      "execution_count": 6,
      "outputs": []
    },
    {
      "cell_type": "code",
      "metadata": {
        "id": "h4GTleMHxJFa",
        "colab_type": "code",
        "colab": {
          "base_uri": "https://localhost:8080/",
          "height": 51
        },
        "outputId": "6aabc7d7-0631-4e88-a3d5-7cffc0a5da3c"
      },
      "source": [
        "%env OMP_NUM_THREADS=10\n",
        "!gcc -o hello -fopenmp code.c\n",
        "!./hello"
      ],
      "execution_count": 7,
      "outputs": [
        {
          "output_type": "stream",
          "text": [
            "env: OMP_NUM_THREADS=10\n",
            "Pi: 3.141653"
          ],
          "name": "stdout"
        }
      ]
    }
  ]
}