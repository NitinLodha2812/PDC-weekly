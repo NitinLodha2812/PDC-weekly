{
  "nbformat": 4,
  "nbformat_minor": 0,
  "metadata": {
    "colab": {
      "name": "PDC-lab4 1.0.ipynb",
      "provenance": [],
      "authorship_tag": "ABX9TyORcQqTYDGrzuu7LyyFl6Sq",
      "include_colab_link": true
    },
    "kernelspec": {
      "name": "python3",
      "display_name": "Python 3"
    }
  },
  "cells": [
    {
      "cell_type": "markdown",
      "metadata": {
        "id": "view-in-github",
        "colab_type": "text"
      },
      "source": [
        "<a href=\"https://colab.research.google.com/github/holps-7/PDC-weekly/blob/master/PDC_lab4(1.0).ipynb\" target=\"_parent\"><img src=\"https://colab.research.google.com/assets/colab-badge.svg\" alt=\"Open In Colab\"/></a>"
      ]
    },
    {
      "cell_type": "code",
      "metadata": {
        "id": "KGNjj2lHv4gW",
        "colab_type": "code",
        "colab": {}
      },
      "source": [
        "#Ramesh Sachan 18BCE2030\n",
        "code = \"\"\"\n",
        "#include <omp.h>\n",
        "#include <stdio.h>\n",
        "#include <stdlib.h>\n",
        "#define RNG_MOD 0x80000000\n",
        "int state;\n",
        "int rng_int(void);\n",
        "double rng_doub(double range);\n",
        "\n",
        "int main() {\n",
        "    int i, ctr;\n",
        "    unsigned int n;\n",
        "    double x, y, pi;\n",
        "    n = 1<<30;\n",
        "    ctr = 0;\n",
        "    #pragma omp threadprivate(state)\n",
        "    #pragma omp parallel private(x, y) reduction(+:ctr) \n",
        "    {\n",
        "        state = 25234 + 17 * omp_get_thread_num();\n",
        "        #pragma omp for\n",
        "        for (i = 0; i <= n; i++) {\n",
        "            x = (double)rng_doub(1.0);\n",
        "            y = (double)rng_doub(1.0);\n",
        "            if (x*x + y*y <= 1) ctr++;\n",
        "        }\n",
        "    }\n",
        "    pi = 4.0*ctr / n;\n",
        "    printf(\"Pi: %lf\", pi);\n",
        "    return 0;\n",
        "}\n",
        "\n",
        "int rng_int(void) {\n",
        "   return (state = (state * 1103515245 + 12345) & 0x7fffffff);\n",
        "}\n",
        "\n",
        "double rng_doub(double range) {\n",
        "    return ((double)rng_int()) / (((double)RNG_MOD)/range);\n",
        "}\n",
        "\"\"\""
      ],
      "execution_count": 1,
      "outputs": []
    },
    {
      "cell_type": "code",
      "metadata": {
        "id": "dbLfFWzhv6l0",
        "colab_type": "code",
        "colab": {}
      },
      "source": [
        "text_file = open(\"code.c\", \"w\")\n",
        "text_file.write(code)\n",
        "text_file.close()"
      ],
      "execution_count": 2,
      "outputs": []
    },
    {
      "cell_type": "code",
      "metadata": {
        "id": "lNG_3GVUv8Xi",
        "colab_type": "code",
        "colab": {
          "base_uri": "https://localhost:8080/",
          "height": 51
        },
        "outputId": "5b4c299b-628a-4444-c21a-183f26a8bbc3"
      },
      "source": [
        "%env OMP_NUM_THREADS=10\n",
        "!gcc -o hello -fopenmp code.c\n",
        "!./hello"
      ],
      "execution_count": 3,
      "outputs": [
        {
          "output_type": "stream",
          "text": [
            "env: OMP_NUM_THREADS=10\n",
            "Pi: 3.141680"
          ],
          "name": "stdout"
        }
      ]
    },
    {
      "cell_type": "code",
      "metadata": {
        "id": "E5McoI2sv-MA",
        "colab_type": "code",
        "colab": {}
      },
      "source": [
        ""
      ],
      "execution_count": null,
      "outputs": []
    }
  ]
}