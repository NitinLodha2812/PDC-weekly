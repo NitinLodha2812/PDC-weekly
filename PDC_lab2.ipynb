{
  "nbformat": 4,
  "nbformat_minor": 0,
  "metadata": {
    "colab": {
      "name": "PDC-lab2.ipynb",
      "provenance": [],
      "collapsed_sections": [],
      "authorship_tag": "ABX9TyNOXeX4aGE86ulnedRZg6c0",
      "include_colab_link": true
    },
    "kernelspec": {
      "name": "python3",
      "display_name": "Python 3"
    }
  },
  "cells": [
    {
      "cell_type": "markdown",
      "metadata": {
        "id": "view-in-github",
        "colab_type": "text"
      },
      "source": [
        "<a href=\"https://colab.research.google.com/github/holps-7/PDC-weekly/blob/master/PDC_lab2.ipynb\" target=\"_parent\"><img src=\"https://colab.research.google.com/assets/colab-badge.svg\" alt=\"Open In Colab\"/></a>"
      ]
    },
    {
      "cell_type": "code",
      "metadata": {
        "id": "BOuGDbPNIIBr",
        "colab_type": "code",
        "colab": {}
      },
      "source": [
        "#Ramesh Sachan 18BCE2030\n",
        "code = \"\"\"\n",
        "#include <stdio.h>\n",
        "#include <omp.h>\n",
        "\n",
        "int main(){ \n",
        "    int partial_Sum, total_Sum;\n",
        "    double start, end;\n",
        "    start = omp_get_wtime();\n",
        "    #pragma omp parallel private(partial_Sum) shared(total_Sum)\n",
        "    {\n",
        "        partial_Sum = 0;\n",
        "        total_Sum = 0;\n",
        "        #pragma omp for\n",
        "        {\n",
        "            for(int i = 1; i <= 1000; i++){\n",
        "                partial_Sum += i;\n",
        "            }\n",
        "        }\n",
        "\n",
        "        //Create thread safe region.\n",
        "        #pragma omp critical\n",
        "        {\n",
        "                //add each threads partial sum to the total sum\n",
        "                total_Sum += partial_Sum;\n",
        "        }\n",
        "    }\n",
        "    end = omp_get_wtime();\n",
        "    printf(\"Total Sum: %d\", total_Sum);\n",
        "    printf(\" \");\n",
        "    printf(\"Time taken %f\", end - start);\n",
        "}\n",
        "\"\"\""
      ],
      "execution_count": 80,
      "outputs": []
    },
    {
      "cell_type": "code",
      "metadata": {
        "id": "9yxu-24sIWaB",
        "colab_type": "code",
        "colab": {}
      },
      "source": [
        "text_file = open(\"code.c\", \"w\")\n",
        "text_file.write(code)\n",
        "text_file.close()"
      ],
      "execution_count": 72,
      "outputs": []
    },
    {
      "cell_type": "code",
      "metadata": {
        "id": "i5xA5HiWS3Yz",
        "colab_type": "code",
        "colab": {
          "base_uri": "https://localhost:8080/",
          "height": 119
        },
        "outputId": "64b9d1ec-2e3f-4cc7-8a3f-19518115fa1a"
      },
      "source": [
        "%env OMP_NUM_THREADS=2\n",
        "!gcc -o hello -fopenmp code.c\n",
        "!./hello"
      ],
      "execution_count": 78,
      "outputs": [
        {
          "output_type": "stream",
          "text": [
            "env: OMP_NUM_THREADS=2\n",
            "\u001b[01m\u001b[Kcode.c:\u001b[m\u001b[K In function ‘\u001b[01m\u001b[Kmain\u001b[m\u001b[K’:\n",
            "\u001b[01m\u001b[Kcode.c:14:9:\u001b[m\u001b[K \u001b[01;31m\u001b[Kerror: \u001b[m\u001b[Kfor statement expected before ‘\u001b[01m\u001b[K{\u001b[m\u001b[K’ token\n",
            "         \u001b[01;31m\u001b[K{\u001b[m\u001b[K\n",
            "         \u001b[01;31m\u001b[K^\u001b[m\u001b[K\n",
            "Total Sum: 1001000 Time taken 0.000103"
          ],
          "name": "stdout"
        }
      ]
    },
    {
      "cell_type": "code",
      "metadata": {
        "id": "OIUBg0OxIXW0",
        "colab_type": "code",
        "colab": {
          "base_uri": "https://localhost:8080/",
          "height": 119
        },
        "outputId": "a6f9f24c-e3b5-4876-c08c-135850764bb4"
      },
      "source": [
        "%env OMP_NUM_THREADS=3\n",
        "!gcc -o hello -fopenmp code.c\n",
        "!./hello"
      ],
      "execution_count": 73,
      "outputs": [
        {
          "output_type": "stream",
          "text": [
            "env: OMP_NUM_THREADS=3\n",
            "\u001b[01m\u001b[Kcode.c:\u001b[m\u001b[K In function ‘\u001b[01m\u001b[Kmain\u001b[m\u001b[K’:\n",
            "\u001b[01m\u001b[Kcode.c:14:9:\u001b[m\u001b[K \u001b[01;31m\u001b[Kerror: \u001b[m\u001b[Kfor statement expected before ‘\u001b[01m\u001b[K{\u001b[m\u001b[K’ token\n",
            "         \u001b[01;31m\u001b[K{\u001b[m\u001b[K\n",
            "         \u001b[01;31m\u001b[K^\u001b[m\u001b[K\n",
            "Total Sum: 500500 Time taken 0.000224"
          ],
          "name": "stdout"
        }
      ]
    },
    {
      "cell_type": "code",
      "metadata": {
        "id": "gGQybXK3RelY",
        "colab_type": "code",
        "colab": {
          "base_uri": "https://localhost:8080/",
          "height": 119
        },
        "outputId": "555e528b-0647-4e30-cbae-21b38166f45e"
      },
      "source": [
        "%env OMP_NUM_THREADS=4\n",
        "!gcc -o hello -fopenmp code.c\n",
        "!./hello"
      ],
      "execution_count": 74,
      "outputs": [
        {
          "output_type": "stream",
          "text": [
            "env: OMP_NUM_THREADS=4\n",
            "\u001b[01m\u001b[Kcode.c:\u001b[m\u001b[K In function ‘\u001b[01m\u001b[Kmain\u001b[m\u001b[K’:\n",
            "\u001b[01m\u001b[Kcode.c:14:9:\u001b[m\u001b[K \u001b[01;31m\u001b[Kerror: \u001b[m\u001b[Kfor statement expected before ‘\u001b[01m\u001b[K{\u001b[m\u001b[K’ token\n",
            "         \u001b[01;31m\u001b[K{\u001b[m\u001b[K\n",
            "         \u001b[01;31m\u001b[K^\u001b[m\u001b[K\n",
            "Total Sum: 500500 Time taken 0.000227"
          ],
          "name": "stdout"
        }
      ]
    },
    {
      "cell_type": "code",
      "metadata": {
        "id": "fgENqqATRpsn",
        "colab_type": "code",
        "colab": {
          "base_uri": "https://localhost:8080/",
          "height": 119
        },
        "outputId": "284db040-dbd3-4288-b0c2-736b57d2bf01"
      },
      "source": [
        "%env OMP_NUM_THREADS=5\n",
        "!gcc -o hello -fopenmp code.c\n",
        "!./hello"
      ],
      "execution_count": 75,
      "outputs": [
        {
          "output_type": "stream",
          "text": [
            "env: OMP_NUM_THREADS=5\n",
            "\u001b[01m\u001b[Kcode.c:\u001b[m\u001b[K In function ‘\u001b[01m\u001b[Kmain\u001b[m\u001b[K’:\n",
            "\u001b[01m\u001b[Kcode.c:14:9:\u001b[m\u001b[K \u001b[01;31m\u001b[Kerror: \u001b[m\u001b[Kfor statement expected before ‘\u001b[01m\u001b[K{\u001b[m\u001b[K’ token\n",
            "         \u001b[01;31m\u001b[K{\u001b[m\u001b[K\n",
            "         \u001b[01;31m\u001b[K^\u001b[m\u001b[K\n",
            "Total Sum: 500500 Time taken 0.000261"
          ],
          "name": "stdout"
        }
      ]
    },
    {
      "cell_type": "code",
      "metadata": {
        "id": "O26b4XI-Rr2Z",
        "colab_type": "code",
        "colab": {
          "base_uri": "https://localhost:8080/",
          "height": 119
        },
        "outputId": "9f66c99f-dd10-4b35-a677-170b5a7e3f9f"
      },
      "source": [
        "%env OMP_NUM_THREADS=8\n",
        "!gcc -o hello -fopenmp code.c\n",
        "!./hello"
      ],
      "execution_count": 76,
      "outputs": [
        {
          "output_type": "stream",
          "text": [
            "env: OMP_NUM_THREADS=8\n",
            "\u001b[01m\u001b[Kcode.c:\u001b[m\u001b[K In function ‘\u001b[01m\u001b[Kmain\u001b[m\u001b[K’:\n",
            "\u001b[01m\u001b[Kcode.c:14:9:\u001b[m\u001b[K \u001b[01;31m\u001b[Kerror: \u001b[m\u001b[Kfor statement expected before ‘\u001b[01m\u001b[K{\u001b[m\u001b[K’ token\n",
            "         \u001b[01;31m\u001b[K{\u001b[m\u001b[K\n",
            "         \u001b[01;31m\u001b[K^\u001b[m\u001b[K\n",
            "Total Sum: 500500 Time taken 0.000391"
          ],
          "name": "stdout"
        }
      ]
    },
    {
      "cell_type": "code",
      "metadata": {
        "id": "v7-wB6XaSxpS",
        "colab_type": "code",
        "colab": {
          "base_uri": "https://localhost:8080/",
          "height": 119
        },
        "outputId": "599d871d-1794-45bb-acf8-9ccadc354601"
      },
      "source": [
        "%env OMP_NUM_THREADS=500\n",
        "!gcc -o hello -fopenmp code.c\n",
        "!./hello"
      ],
      "execution_count": 77,
      "outputs": [
        {
          "output_type": "stream",
          "text": [
            "env: OMP_NUM_THREADS=500\n",
            "\u001b[01m\u001b[Kcode.c:\u001b[m\u001b[K In function ‘\u001b[01m\u001b[Kmain\u001b[m\u001b[K’:\n",
            "\u001b[01m\u001b[Kcode.c:14:9:\u001b[m\u001b[K \u001b[01;31m\u001b[Kerror: \u001b[m\u001b[Kfor statement expected before ‘\u001b[01m\u001b[K{\u001b[m\u001b[K’ token\n",
            "         \u001b[01;31m\u001b[K{\u001b[m\u001b[K\n",
            "         \u001b[01;31m\u001b[K^\u001b[m\u001b[K\n",
            "Total Sum: 500500 Time taken 0.019226"
          ],
          "name": "stdout"
        }
      ]
    },
    {
      "cell_type": "code",
      "metadata": {
        "id": "rUL1xohhTkAS",
        "colab_type": "code",
        "colab": {
          "base_uri": "https://localhost:8080/",
          "height": 295
        },
        "outputId": "3464a42a-fdaa-4e8b-ee6b-fc87fb419bee"
      },
      "source": [
        "import matplotlib.pyplot as plt \n",
        "  \n",
        "x = [2,3,4,5,8,500] \n",
        "y = [0.000103,0.000224,0.000227,0.000261,0.000391,0.019226] \n",
        "  \n",
        "plt.plot(x, y) \n",
        "  \n",
        "plt.xlabel('Number of Threads') \n",
        "# naming the y axis \n",
        "plt.ylabel('Time taken') \n",
        "  \n",
        "# giving a title to my graph \n",
        "plt.title('Threads v/s Time taken') \n",
        "  \n",
        "# function to show the plot \n",
        "plt.show()"
      ],
      "execution_count": 79,
      "outputs": [
        {
          "output_type": "display_data",
          "data": {
            "image/png": "[encoded data removed]",
            "text/plain": [
              "<Figure size 432x288 with 1 Axes>"
            ]
          },
          "metadata": {
            "tags": [],
            "needs_background": "light"
          }
        }
      ]
    }
  ]
}