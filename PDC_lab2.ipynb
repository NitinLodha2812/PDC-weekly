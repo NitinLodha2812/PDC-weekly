{
  "nbformat": 4,
  "nbformat_minor": 0,
  "metadata": {
    "colab": {
      "name": "PDC-lab2.ipynb",
      "provenance": [],
      "collapsed_sections": [],
      "authorship_tag": "ABX9TyOgqsAgEP4kOUBb5rS/rA2w",
      "include_colab_link": true
    },
    "kernelspec": {
      "name": "python3",
      "display_name": "Python 3"
    }
  },
  "cells": [
    {
      "cell_type": "markdown",
      "metadata": {
        "id": "view-in-github",
        "colab_type": "text"
      },
      "source": [
        "<a href=\"https://colab.research.google.com/github/holps-7/PDC-weekly/blob/master/PDC_lab2.ipynb\" target=\"_parent\"><img src=\"https://colab.research.google.com/assets/colab-badge.svg\" alt=\"Open In Colab\"/></a>"
      ]
    },
    {
      "cell_type": "code",
      "metadata": {
        "id": "BOuGDbPNIIBr",
        "colab_type": "code",
        "colab": {}
      },
      "source": [
        "#Ramesh Sachan 18BCE2030\n",
        "code = \"\"\"\n",
        "#include <stdio.h>\n",
        "#include <omp.h>\n",
        "\n",
        "int main(){ \n",
        "    int partial_Sum, total_Sum;\n",
        "    double start, end;\n",
        "    start = omp_get_wtime();\n",
        "    #pragma omp parallel private(partial_Sum) shared(total_Sum)\n",
        "    {\n",
        "        partial_Sum = 0;\n",
        "        total_Sum = 0;\n",
        "        #pragma omp for\n",
        "            for(int i = 1; i <= 1000; i++){\n",
        "                partial_Sum += i;\n",
        "            }\n",
        "\n",
        "        //Create thread safe region.\n",
        "        #pragma omp critical\n",
        "        {\n",
        "                //add each threads partial sum to the total sum\n",
        "                total_Sum += partial_Sum;\n",
        "        }\n",
        "    }\n",
        "    end = omp_get_wtime();\n",
        "    printf(\"Total Sum: %d\", total_Sum);\n",
        "    printf(\" \");\n",
        "    printf(\"Time taken %f\", end - start);\n",
        "}\n",
        "\"\"\""
      ],
      "execution_count": 13,
      "outputs": []
    },
    {
      "cell_type": "code",
      "metadata": {
        "id": "9yxu-24sIWaB",
        "colab_type": "code",
        "colab": {}
      },
      "source": [
        "text_file = open(\"code.c\", \"w\")\n",
        "text_file.write(code)\n",
        "text_file.close()"
      ],
      "execution_count": 14,
      "outputs": []
    },
    {
      "cell_type": "code",
      "metadata": {
        "id": "i5xA5HiWS3Yz",
        "colab_type": "code",
        "colab": {
          "base_uri": "https://localhost:8080/",
          "height": 51
        },
        "outputId": "8663511d-6300-46cb-8779-bfe2fe39c83c"
      },
      "source": [
        "%env OMP_NUM_THREADS=2\n",
        "!gcc -o hello -fopenmp code.c\n",
        "!./hello"
      ],
      "execution_count": 15,
      "outputs": [
        {
          "output_type": "stream",
          "text": [
            "env: OMP_NUM_THREADS=2\n",
            "Total Sum: 500500 Time taken 0.000120"
          ],
          "name": "stdout"
        }
      ]
    },
    {
      "cell_type": "code",
      "metadata": {
        "id": "OIUBg0OxIXW0",
        "colab_type": "code",
        "colab": {
          "base_uri": "https://localhost:8080/",
          "height": 51
        },
        "outputId": "ae591c56-1b13-4c17-f13d-8afa437622d9"
      },
      "source": [
        "%env OMP_NUM_THREADS=3\n",
        "!gcc -o hello -fopenmp code.c\n",
        "!./hello"
      ],
      "execution_count": 16,
      "outputs": [
        {
          "output_type": "stream",
          "text": [
            "env: OMP_NUM_THREADS=3\n",
            "Total Sum: 500500 Time taken 0.000240"
          ],
          "name": "stdout"
        }
      ]
    },
    {
      "cell_type": "code",
      "metadata": {
        "id": "gGQybXK3RelY",
        "colab_type": "code",
        "colab": {
          "base_uri": "https://localhost:8080/",
          "height": 51
        },
        "outputId": "bb8066ab-0f67-4ef2-e9a0-17d7237ac6eb"
      },
      "source": [
        "%env OMP_NUM_THREADS=4\n",
        "!gcc -o hello -fopenmp code.c\n",
        "!./hello"
      ],
      "execution_count": 17,
      "outputs": [
        {
          "output_type": "stream",
          "text": [
            "env: OMP_NUM_THREADS=4\n",
            "Total Sum: 500500 Time taken 0.000286"
          ],
          "name": "stdout"
        }
      ]
    },
    {
      "cell_type": "code",
      "metadata": {
        "id": "fgENqqATRpsn",
        "colab_type": "code",
        "colab": {
          "base_uri": "https://localhost:8080/",
          "height": 51
        },
        "outputId": "de972252-2d84-4c5c-e26d-7bed614282c5"
      },
      "source": [
        "%env OMP_NUM_THREADS=5\n",
        "!gcc -o hello -fopenmp code.c\n",
        "!./hello"
      ],
      "execution_count": 18,
      "outputs": [
        {
          "output_type": "stream",
          "text": [
            "env: OMP_NUM_THREADS=5\n",
            "Total Sum: 500500 Time taken 0.000452"
          ],
          "name": "stdout"
        }
      ]
    },
    {
      "cell_type": "code",
      "metadata": {
        "id": "O26b4XI-Rr2Z",
        "colab_type": "code",
        "colab": {
          "base_uri": "https://localhost:8080/",
          "height": 51
        },
        "outputId": "04821b14-48e2-4cc5-9ddb-58d1ac94b079"
      },
      "source": [
        "%env OMP_NUM_THREADS=8\n",
        "!gcc -o hello -fopenmp code.c\n",
        "!./hello"
      ],
      "execution_count": 19,
      "outputs": [
        {
          "output_type": "stream",
          "text": [
            "env: OMP_NUM_THREADS=8\n",
            "Total Sum: 500500 Time taken 0.000401"
          ],
          "name": "stdout"
        }
      ]
    },
    {
      "cell_type": "code",
      "metadata": {
        "id": "v7-wB6XaSxpS",
        "colab_type": "code",
        "colab": {
          "base_uri": "https://localhost:8080/",
          "height": 51
        },
        "outputId": "90ab11d1-90c6-4ed6-fe4b-b05947ab2e89"
      },
      "source": [
        "%env OMP_NUM_THREADS=500\n",
        "!gcc -o hello -fopenmp code.c\n",
        "!./hello"
      ],
      "execution_count": 20,
      "outputs": [
        {
          "output_type": "stream",
          "text": [
            "env: OMP_NUM_THREADS=500\n",
            "Total Sum: 500500 Time taken 0.025514"
          ],
          "name": "stdout"
        }
      ]
    },
    {
      "cell_type": "code",
      "metadata": {
        "id": "rUL1xohhTkAS",
        "colab_type": "code",
        "colab": {
          "base_uri": "https://localhost:8080/",
          "height": 295
        },
        "outputId": "0b2090d3-286b-41e1-fec6-82a19b1ff7ed"
      },
      "source": [
        "import matplotlib.pyplot as plt \n",
        "  \n",
        "x = [2,3,4,5,8,500] \n",
        "y = [0.000120,0.000240,0.000286,0.000452,0.000401,0.025514] \n",
        "  \n",
        "plt.plot(x, y) \n",
        "  \n",
        "plt.xlabel('Number of Threads') \n",
        "# naming the y axis \n",
        "plt.ylabel('Time taken') \n",
        "  \n",
        "# giving a title to my graph \n",
        "plt.title('Threads v/s Time taken') \n",
        "  \n",
        "# function to show the plot \n",
        "plt.show()"
      ],
      "execution_count": 22,
      "outputs": [
        {
          "output_type": "display_data",
          "data": {
            "image/png": "[encoded data removed]",
            "text/plain": [
              "<Figure size 432x288 with 1 Axes>"
            ]
          },
          "metadata": {
            "tags": [],
            "needs_background": "light"
          }
        }
      ]
    }
  ]
}