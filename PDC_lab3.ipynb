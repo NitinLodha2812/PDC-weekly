{
  "nbformat": 4,
  "nbformat_minor": 0,
  "metadata": {
    "colab": {
      "name": "PDC-lab3.ipynb",
      "provenance": [],
      "collapsed_sections": [],
      "authorship_tag": "ABX9TyNN4N8qcxG/P+GwODqNt5TO",
      "include_colab_link": true
    },
    "kernelspec": {
      "name": "python3",
      "display_name": "Python 3"
    }
  },
  "cells": [
    {
      "cell_type": "markdown",
      "metadata": {
        "id": "view-in-github",
        "colab_type": "text"
      },
      "source": [
        "<a href=\"https://colab.research.google.com/github/holps-7/PDC-weekly/blob/master/PDC_lab3.ipynb\" target=\"_parent\"><img src=\"https://colab.research.google.com/assets/colab-badge.svg\" alt=\"Open In Colab\"/></a>"
      ]
    },
    {
      "cell_type": "code",
      "metadata": {
        "id": "en7nPTUmUhB8",
        "colab_type": "code",
        "colab": {
          "base_uri": "https://localhost:8080/"
        },
        "outputId": "ed8c96c4-3607-442c-e058-dbffd07363a3"
      },
      "source": [
        "!apt-get install -qq gcc-5 g++-5 -y"
      ],
      "execution_count": 33,
      "outputs": [
        {
          "output_type": "stream",
          "text": [
            "Selecting previously unselected package gcc-5-base:amd64.\n",
            "(Reading database ... \r(Reading database ... 5%\r(Reading database ... 10%\r(Reading database ... 15%\r(Reading database ... 20%\r(Reading database ... 25%\r(Reading database ... 30%\r(Reading database ... 35%\r(Reading database ... 40%\r(Reading database ... 45%\r(Reading database ... 50%\r(Reading database ... 55%\r(Reading database ... 60%\r(Reading database ... 65%\r(Reading database ... 70%\r(Reading database ... 75%\r(Reading database ... 80%\r(Reading database ... 85%\r(Reading database ... 90%\r(Reading database ... 95%\r(Reading database ... 100%\r(Reading database ... 144487 files and directories currently installed.)\n",
            "Preparing to unpack .../0-gcc-5-base_5.5.0-12ubuntu1_amd64.deb ...\n",
            "Unpacking gcc-5-base:amd64 (5.5.0-12ubuntu1) ...\n",
            "Selecting previously unselected package libisl15:amd64.\n",
            "Preparing to unpack .../1-libisl15_0.18-4_amd64.deb ...\n",
            "Unpacking libisl15:amd64 (0.18-4) ...\n",
            "Selecting previously unselected package cpp-5.\n",
            "Preparing to unpack .../2-cpp-5_5.5.0-12ubuntu1_amd64.deb ...\n",
            "Unpacking cpp-5 (5.5.0-12ubuntu1) ...\n",
            "Selecting previously unselected package libasan2:amd64.\n",
            "Preparing to unpack .../3-libasan2_5.5.0-12ubuntu1_amd64.deb ...\n",
            "Unpacking libasan2:amd64 (5.5.0-12ubuntu1) ...\n",
            "Selecting previously unselected package libmpx0:amd64.\n",
            "Preparing to unpack .../4-libmpx0_5.5.0-12ubuntu1_amd64.deb ...\n",
            "Unpacking libmpx0:amd64 (5.5.0-12ubuntu1) ...\n",
            "Selecting previously unselected package libgcc-5-dev:amd64.\n",
            "Preparing to unpack .../5-libgcc-5-dev_5.5.0-12ubuntu1_amd64.deb ...\n",
            "Unpacking libgcc-5-dev:amd64 (5.5.0-12ubuntu1) ...\n",
            "Selecting previously unselected package gcc-5.\n",
            "Preparing to unpack .../6-gcc-5_5.5.0-12ubuntu1_amd64.deb ...\n",
            "Unpacking gcc-5 (5.5.0-12ubuntu1) ...\n",
            "Selecting previously unselected package libstdc++-5-dev:amd64.\n",
            "Preparing to unpack .../7-libstdc++-5-dev_5.5.0-12ubuntu1_amd64.deb ...\n",
            "Unpacking libstdc++-5-dev:amd64 (5.5.0-12ubuntu1) ...\n",
            "Selecting previously unselected package g++-5.\n",
            "Preparing to unpack .../8-g++-5_5.5.0-12ubuntu1_amd64.deb ...\n",
            "Unpacking g++-5 (5.5.0-12ubuntu1) ...\n",
            "Setting up libisl15:amd64 (0.18-4) ...\n",
            "Setting up gcc-5-base:amd64 (5.5.0-12ubuntu1) ...\n",
            "Setting up libmpx0:amd64 (5.5.0-12ubuntu1) ...\n",
            "Setting up libasan2:amd64 (5.5.0-12ubuntu1) ...\n",
            "Setting up libgcc-5-dev:amd64 (5.5.0-12ubuntu1) ...\n",
            "Setting up cpp-5 (5.5.0-12ubuntu1) ...\n",
            "Setting up libstdc++-5-dev:amd64 (5.5.0-12ubuntu1) ...\n",
            "Setting up gcc-5 (5.5.0-12ubuntu1) ...\n",
            "Setting up g++-5 (5.5.0-12ubuntu1) ...\n",
            "Processing triggers for man-db (2.8.3-2ubuntu0.1) ...\n",
            "Processing triggers for libc-bin (2.27-3ubuntu1) ...\n",
            "/sbin/ldconfig.real: /usr/local/lib/python3.6/dist-packages/ideep4py/lib/libmkldnn.so.0 is not a symbolic link\n",
            "\n"
          ],
          "name": "stdout"
        }
      ]
    },
    {
      "cell_type": "code",
      "metadata": {
        "id": "619i5IrkS43R",
        "colab_type": "code",
        "colab": {}
      },
      "source": [
        "#Ramesh Sachan 18BCE2030\n",
        "code = \"\"\"\n",
        "# include <stdlib.h>\n",
        "# include <stdio.h>\n",
        "# include <omp.h>\n",
        "\n",
        "int main ( int argc, char *argv[] );\n",
        "void prime_number_sweep ( int n_lo, int n_hi, int n_factor );\n",
        "int prime_number ( int n );\n",
        "int main ( int argc, char *argv[] )\n",
        "{\n",
        "  int n_factor;\n",
        "  int n_hi;\n",
        "  int n_lo;\n",
        "\n",
        "  printf ( \" \" );\n",
        "  printf ( \"PRIME_OPENMP\" );\n",
        "  printf ( \" \" );\n",
        "  printf ( \"  C/OpenMP version\" );\n",
        "  printf ( \" \" );\n",
        "\n",
        "  printf ( \" \" );\n",
        "  printf ( \"  Number of processors available = %d\", omp_get_num_procs ( ) );\n",
        "  printf ( \" \" );\n",
        "  printf ( \"  Number of threads = %d\", omp_get_max_threads ( ) );\n",
        "  printf ( \" \" );\n",
        "\n",
        "  n_lo = 1;\n",
        "  n_hi = 131072;\n",
        "  n_factor = 2;\n",
        "\n",
        "  prime_number_sweep ( n_lo, n_hi, n_factor );\n",
        "\n",
        "  n_lo = 5;\n",
        "  n_hi = 500000;\n",
        "  n_factor = 10;\n",
        "\n",
        "  prime_number_sweep ( n_lo, n_hi, n_factor );\n",
        "  printf ( \" \" );\n",
        "  printf ( \"PRIME_OPENMP\" );\n",
        "  printf ( \" \" );\n",
        "  printf ( \"  Normal end of execution.\" );\n",
        "  printf ( \" \" );\n",
        "\n",
        "  return 0;\n",
        "}\n",
        "/******************************************************************************/\n",
        "\n",
        "void prime_number_sweep ( int n_lo, int n_hi, int n_factor )\n",
        "{\n",
        "  int n;\n",
        "  int primes;\n",
        "  double wtime;\n",
        "\n",
        "  printf ( \" \" );\n",
        "  printf ( \"TEST01\" );\n",
        "  printf ( \" \" );\n",
        "  printf ( \"  Call PRIME_NUMBER to count the primes from 1 to N.\" );\n",
        "  printf ( \" \" );\n",
        "  printf ( \" \" );\n",
        "  printf ( \"         N        Pi          Time\" );\n",
        "  printf ( \" \" );\n",
        "  printf ( \" \" );\n",
        "\n",
        "  n = n_lo;\n",
        "\n",
        "  while ( n <= n_hi )\n",
        "  {\n",
        "    wtime = omp_get_wtime ( );\n",
        "\n",
        "    primes = prime_number ( n );\n",
        "\n",
        "    wtime = omp_get_wtime ( ) - wtime;\n",
        "\n",
        "    printf ( \"  %8d  %8d  %14f\", n, primes, wtime );\n",
        "    printf ( \" \" );\n",
        "\n",
        "    n = n * n_factor;\n",
        "  }\n",
        " \n",
        "  return;\n",
        "}\n",
        "/******************************************************************************/\n",
        "\n",
        "int prime_number ( int n )\n",
        "{\n",
        "  int i;\n",
        "  int j;\n",
        "  int prime;\n",
        "  int total = 0;\n",
        "\n",
        "# pragma omp parallel \\\n",
        "  shared ( n ) \\\n",
        "  private ( i, j, prime )\n",
        "  \n",
        "\n",
        "# pragma omp for reduction ( + : total )\n",
        "  for ( i = 2; i <= n; i++ )\n",
        "  {\n",
        "    prime = 1;\n",
        "\n",
        "    for ( j = 2; j < i; j++ )\n",
        "    {\n",
        "      if ( i % j == 0 )\n",
        "      {\n",
        "        prime = 0;\n",
        "        break;\n",
        "      }\n",
        "    }\n",
        "    total = total + prime;\n",
        "  }\n",
        "\n",
        "  return total;\n",
        "}\n",
        "\"\"\""
      ],
      "execution_count": 37,
      "outputs": []
    },
    {
      "cell_type": "code",
      "metadata": {
        "id": "Bi34YJtETD0A",
        "colab_type": "code",
        "colab": {}
      },
      "source": [
        "text_file = open(\"code.c\", \"w\")\n",
        "text_file.write(code)\n",
        "text_file.close()"
      ],
      "execution_count": 38,
      "outputs": []
    },
    {
      "cell_type": "code",
      "metadata": {
        "id": "EuyyPNEiTEUL",
        "colab_type": "code",
        "colab": {
          "base_uri": "https://localhost:8080/",
          "height": 71
        },
        "outputId": "0adcccf9-1250-4661-f26e-a3294d797622"
      },
      "source": [
        "%env OMP_NUM_THREADS=10\n",
        "!gcc -o hello -fopenmp code.c\n",
        "!./hello"
      ],
      "execution_count": 39,
      "outputs": [
        {
          "output_type": "stream",
          "text": [
            "env: OMP_NUM_THREADS=10\n",
            " PRIME_OPENMP   C/OpenMP version    Number of processors available = 2   Number of threads = 10  TEST01   Call PRIME_NUMBER to count the primes from 1 to N.           N        Pi          Time           1         0        0.000406          2         1        0.000142          4         2        0.000111          8         4        0.000105         16         6        0.000112         32        11        0.000107         64        18        0.000108        128        31        0.000126        256        54        0.000150        512        97        0.000251       1024       172        0.000450       2048       309        0.001292       4096       564        0.004482       8192      1028        0.016589      16384      1900        0.057787      32768      3512        0.205078      65536      6542        0.759035     131072     12251        2.834380  TEST01   Call PRIME_NUMBER to count the primes from 1 to N.           N        Pi          Time           5         3        0.000115         50        15        0.000078        500        95        0.000182       5000       669        0.006025      50000      5133        0.451879     500000     41538       37.006604  PRIME_OPENMP   Normal end of execution. "
          ],
          "name": "stdout"
        }
      ]
    }
  ]
}