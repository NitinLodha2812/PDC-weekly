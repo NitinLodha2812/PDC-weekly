{
  "nbformat": 4,
  "nbformat_minor": 0,
  "metadata": {
    "colab": {
      "name": "PDCexample.ipynb",
      "provenance": [],
      "collapsed_sections": [],
      "authorship_tag": "ABX9TyNsTz9DGUKJ2F4TI20t52oQ",
      "include_colab_link": true
    },
    "kernelspec": {
      "name": "python3",
      "display_name": "Python 3"
    }
  },
  "cells": [
    {
      "cell_type": "markdown",
      "metadata": {
        "id": "view-in-github",
        "colab_type": "text"
      },
      "source": [
        "<a href=\"https://colab.research.google.com/github/holps-7/PDC-weekly/blob/master/PDCexample.ipynb\" target=\"_parent\"><img src=\"https://colab.research.google.com/assets/colab-badge.svg\" alt=\"Open In Colab\"/></a>"
      ]
    },
    {
      "cell_type": "code",
      "metadata": {
        "id": "Ru1U5F4f6ZEJ",
        "colab_type": "code",
        "colab": {}
      },
      "source": [
        "#Ramesh Sachan 18BCE2030\n",
        "#Demo on How to run openMP program on Google Colab\n",
        "code = \"\"\"\n",
        "#include <time.h>\n",
        "// OpenMP header \n",
        "#include <omp.h>   \n",
        "#include <stdio.h>\n",
        "\n",
        "int main() \n",
        "{ \n",
        "         \n",
        "    clock_t start, end;\n",
        "    double cpu_time_used;\n",
        "     \n",
        "    start = clock();\n",
        "    // Beginning of parallel region \n",
        "    #pragma omp parallel \n",
        "    { \n",
        "        printf(\"Hello World... from thread = %d \\\\n\", omp_get_thread_num()); \n",
        "    } \n",
        "    // Ending of paralSlel region \n",
        "    end = clock();\n",
        "    cpu_time_used = ((double) (end - start)) / CLOCKS_PER_SEC;\n",
        "    printf(\"%f\", cpu_time_used);\n",
        "}\n",
        "\"\"\""
      ],
      "execution_count": 4,
      "outputs": []
    },
    {
      "cell_type": "code",
      "metadata": {
        "id": "_aT5x3NI6aMw",
        "colab_type": "code",
        "colab": {}
      },
      "source": [
        "text_file = open(\"code.c\", \"w\")\n",
        "text_file.write(code)\n",
        "text_file.close()"
      ],
      "execution_count": null,
      "outputs": []
    },
    {
      "cell_type": "code",
      "metadata": {
        "id": "9qukFWH46cDi",
        "colab_type": "code",
        "colab": {
          "base_uri": "https://localhost:8080/",
          "height": 136
        },
        "outputId": "3122861b-1c0a-4ce6-defe-750a9ec78dcc"
      },
      "source": [
        "%env OMP_NUM_THREADS=5\n",
        "!gcc -o hello -fopenmp code.c\n",
        "!./hello"
      ],
      "execution_count": null,
      "outputs": [
        {
          "output_type": "stream",
          "text": [
            "env: OMP_NUM_THREADS=5\n",
            "Hello World... from thread = 0 \n",
            "Hello World... from thread = 1 \n",
            "Hello World... from thread = 2 \n",
            "Hello World... from thread = 3 \n",
            "Hello World... from thread = 4 \n",
            "0.000406"
          ],
          "name": "stdout"
        }
      ]
    }
  ]
}