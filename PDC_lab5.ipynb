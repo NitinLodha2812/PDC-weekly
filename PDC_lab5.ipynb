{
  "nbformat": 4,
  "nbformat_minor": 0,
  "metadata": {
    "colab": {
      "name": "PDC_lab5.ipynb",
      "provenance": [],
      "authorship_tag": "ABX9TyOh5qNEjffmEJ98uCUgITcg",
      "include_colab_link": true
    },
    "kernelspec": {
      "name": "python3",
      "display_name": "Python 3"
    },
    "accelerator": "GPU"
  },
  "cells": [
    {
      "cell_type": "markdown",
      "metadata": {
        "id": "view-in-github",
        "colab_type": "text"
      },
      "source": [
        "<a href=\"https://colab.research.google.com/github/holps-7/PDC-weekly/blob/master/PDC_lab5.ipynb\" target=\"_parent\"><img src=\"https://colab.research.google.com/assets/colab-badge.svg\" alt=\"Open In Colab\"/></a>"
      ]
    },
    {
      "cell_type": "code",
      "metadata": {
        "id": "y0mAIYs_ZaLt"
      },
      "source": [
        "code = \"\"\"\n",
        "#include <stdio.h>\n",
        "#include <stdlib.h>\n",
        "#include <time.h>\n",
        "#include <mpi.h>\n",
        "\n",
        "#define N 1E8\n",
        "#define d 1E-8\n",
        "\n",
        "int main (int argc, char* argv[])\n",
        "{\n",
        "    int rank, size, error, i, result=0, sum=0;\n",
        "    double pi=0.0, begin=0.0, end=0.0, x, y;\n",
        "    \n",
        "    error=MPI_Init (&argc, &argv);\n",
        "    \n",
        "    //Get process ID\n",
        "    MPI_Comm_rank (MPI_COMM_WORLD, &rank);\n",
        "    \n",
        "    //Get processes Number\n",
        "    MPI_Comm_size (MPI_COMM_WORLD, &size);\n",
        "    \n",
        "    //Synchronize all processes and get the begin time\n",
        "    MPI_Barrier(MPI_COMM_WORLD);\n",
        "    begin = MPI_Wtime();\n",
        "    \n",
        "    srand((int)time(0));\n",
        "    \n",
        "    //Each process will caculate a part of the sum\n",
        "    for (i=rank; i<N; i+=size)\n",
        "    {\n",
        "        x=rand()/(RAND_MAX+1.0);\n",
        "        y=rand()/(RAND_MAX+1.0);\n",
        "        if(x*x+y*y<1.0)\n",
        "            result++;\n",
        "    }\n",
        "    \n",
        "    //Sum up all results\n",
        "    MPI_Reduce(&result, &sum, 1, MPI_INT, MPI_SUM, 0, MPI_COMM_WORLD);\n",
        "    \n",
        "    //Synchronize all processes and get the end time\n",
        "    MPI_Barrier(MPI_COMM_WORLD);\n",
        "    end = MPI_Wtime();\n",
        "    \n",
        "    //Caculate and print PI\n",
        "    if (rank==0)\n",
        "    {\n",
        "        pi=4*d*sum;\n",
        "        printf(\"np = %2d\\\\n\", size);\n",
        "        printf(\"Time = %fs\\\\n\", end-begin);\n",
        "        printf(\"PI = %f\\\\n\", pi);\n",
        "    }\n",
        "    \n",
        "    error=MPI_Finalize();\n",
        "    \n",
        "    return 0;\n",
        "}\n",
        "\"\"\""
      ],
      "execution_count": null,
      "outputs": []
    },
    {
      "cell_type": "code",
      "metadata": {
        "id": "IvMDz68hZg4w"
      },
      "source": [
        "text_file = open(\"code.c\", \"w\")\n",
        "text_file.write(code)\n",
        "text_file.close()"
      ],
      "execution_count": null,
      "outputs": []
    },
    {
      "cell_type": "code",
      "metadata": {
        "id": "DMh3L-eiZoTr",
        "outputId": "f0287541-b4d6-42fb-8cb5-d094876a0028",
        "colab": {
          "base_uri": "https://localhost:8080/",
          "height": 238
        }
      },
      "source": [
        "!mpicc -o hello code.c\n",
        "!./hello"
      ],
      "execution_count": null,
      "outputs": [
        {
          "output_type": "stream",
          "text": [
            "np =  1\n",
            "Time = 3.885262s\n",
            "PI = 3.141494\n",
            "[fbec615338b2:00295] *** Process received signal ***\n",
            "[fbec615338b2:00295] Signal: Segmentation fault (11)\n",
            "[fbec615338b2:00295] Signal code: Address not mapped (1)\n",
            "[fbec615338b2:00295] Failing at address: 0x7fe3e1fc820d\n",
            "[fbec615338b2:00295] [ 0] /lib/x86_64-linux-gnu/libpthread.so.0(+0x128a0)[0x7fe3e4e758a0]\n",
            "[fbec615338b2:00295] [ 1] /lib/x86_64-linux-gnu/libc.so.6(getenv+0xa5)[0x7fe3e4ab4835]\n",
            "[fbec615338b2:00295] [ 2] /usr/lib/x86_64-linux-gnu/libtcmalloc.so.4(_ZN13TCMallocGuardD1Ev+0x34)[0x7fe3e531fe44]\n",
            "[fbec615338b2:00295] [ 3] /lib/x86_64-linux-gnu/libc.so.6(__cxa_finalize+0xf5)[0x7fe3e4ab56c5]\n",
            "[fbec615338b2:00295] [ 4] /usr/lib/x86_64-linux-gnu/libtcmalloc.so.4(+0x13cb3)[0x7fe3e531dcb3]\n",
            "[fbec615338b2:00295] *** End of error message ***\n"
          ],
          "name": "stdout"
        }
      ]
    }
  ]
}